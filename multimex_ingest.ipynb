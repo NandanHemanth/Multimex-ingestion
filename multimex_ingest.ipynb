{
 "cells": [
  {
   "cell_type": "markdown",
   "metadata": {},
   "source": [
    "# CogniAble\n",
    "## Integration of Retrieval Augmented Generation (RAG) with Open Source LLM and LangChain for Autism Intervention Research.\n",
    "> - By - Nandan Hemanth\n",
    "> - Github repo: - https://github.com/NandanHemanth/Multimex-ingestion \n",
    "> - Resume - https://drive.google.com/file/d/1IB6X_G7mPwvzv1M8I0QiV099_02bylI2/view?usp=sharing \n",
    "---\n",
    "1. Installing all the necessary libraries for this task"
   ]
  },
  {
   "cell_type": "code",
   "execution_count": 3,
   "metadata": {},
   "outputs": [
    {
     "name": "stdout",
     "output_type": "stream",
     "text": [
      "Requirement already satisfied: langchain in d:\\guild\\tdl_ta\\.conda\\lib\\site-packages (0.1.11)\n",
      "Requirement already satisfied: PyYAML>=5.3 in d:\\guild\\tdl_ta\\.conda\\lib\\site-packages (from langchain) (6.0.1)\n",
      "Requirement already satisfied: SQLAlchemy<3,>=1.4 in d:\\guild\\tdl_ta\\.conda\\lib\\site-packages (from langchain) (2.0.28)\n",
      "Requirement already satisfied: aiohttp<4.0.0,>=3.8.3 in d:\\guild\\tdl_ta\\.conda\\lib\\site-packages (from langchain) (3.9.3)\n",
      "Requirement already satisfied: async-timeout<5.0.0,>=4.0.0 in d:\\guild\\tdl_ta\\.conda\\lib\\site-packages (from langchain) (4.0.3)\n",
      "Requirement already satisfied: dataclasses-json<0.7,>=0.5.7 in d:\\guild\\tdl_ta\\.conda\\lib\\site-packages (from langchain) (0.6.4)\n",
      "Requirement already satisfied: jsonpatch<2.0,>=1.33 in d:\\guild\\tdl_ta\\.conda\\lib\\site-packages (from langchain) (1.33)\n",
      "Requirement already satisfied: langchain-community<0.1,>=0.0.25 in d:\\guild\\tdl_ta\\.conda\\lib\\site-packages (from langchain) (0.0.25)\n",
      "Requirement already satisfied: langchain-core<0.2,>=0.1.29 in d:\\guild\\tdl_ta\\.conda\\lib\\site-packages (from langchain) (0.1.29)\n",
      "Requirement already satisfied: langchain-text-splitters<0.1,>=0.0.1 in d:\\guild\\tdl_ta\\.conda\\lib\\site-packages (from langchain) (0.0.1)\n",
      "Requirement already satisfied: langsmith<0.2.0,>=0.1.17 in d:\\guild\\tdl_ta\\.conda\\lib\\site-packages (from langchain) (0.1.22)\n",
      "Requirement already satisfied: numpy<2,>=1 in d:\\guild\\tdl_ta\\.conda\\lib\\site-packages (from langchain) (1.26.3)\n",
      "Requirement already satisfied: pydantic<3,>=1 in d:\\guild\\tdl_ta\\.conda\\lib\\site-packages (from langchain) (2.6.3)\n",
      "Requirement already satisfied: requests<3,>=2 in d:\\guild\\tdl_ta\\.conda\\lib\\site-packages (from langchain) (2.28.1)\n",
      "Requirement already satisfied: tenacity<9.0.0,>=8.1.0 in d:\\guild\\tdl_ta\\.conda\\lib\\site-packages (from langchain) (8.2.3)\n",
      "Requirement already satisfied: aiosignal>=1.1.2 in d:\\guild\\tdl_ta\\.conda\\lib\\site-packages (from aiohttp<4.0.0,>=3.8.3->langchain) (1.3.1)\n",
      "Requirement already satisfied: attrs>=17.3.0 in d:\\guild\\tdl_ta\\.conda\\lib\\site-packages (from aiohttp<4.0.0,>=3.8.3->langchain) (23.2.0)\n",
      "Requirement already satisfied: frozenlist>=1.1.1 in d:\\guild\\tdl_ta\\.conda\\lib\\site-packages (from aiohttp<4.0.0,>=3.8.3->langchain) (1.4.1)\n",
      "Requirement already satisfied: multidict<7.0,>=4.5 in d:\\guild\\tdl_ta\\.conda\\lib\\site-packages (from aiohttp<4.0.0,>=3.8.3->langchain) (6.0.5)\n",
      "Requirement already satisfied: yarl<2.0,>=1.0 in d:\\guild\\tdl_ta\\.conda\\lib\\site-packages (from aiohttp<4.0.0,>=3.8.3->langchain) (1.9.4)\n",
      "Requirement already satisfied: marshmallow<4.0.0,>=3.18.0 in d:\\guild\\tdl_ta\\.conda\\lib\\site-packages (from dataclasses-json<0.7,>=0.5.7->langchain) (3.21.1)\n",
      "Requirement already satisfied: typing-inspect<1,>=0.4.0 in d:\\guild\\tdl_ta\\.conda\\lib\\site-packages (from dataclasses-json<0.7,>=0.5.7->langchain) (0.9.0)\n",
      "Requirement already satisfied: jsonpointer>=1.9 in d:\\guild\\tdl_ta\\.conda\\lib\\site-packages (from jsonpatch<2.0,>=1.33->langchain) (2.4)\n",
      "Requirement already satisfied: anyio<5,>=3 in d:\\guild\\tdl_ta\\.conda\\lib\\site-packages (from langchain-core<0.2,>=0.1.29->langchain) (4.3.0)\n",
      "Requirement already satisfied: packaging<24.0,>=23.2 in d:\\guild\\tdl_ta\\.conda\\lib\\site-packages (from langchain-core<0.2,>=0.1.29->langchain) (23.2)\n",
      "Requirement already satisfied: orjson<4.0.0,>=3.9.14 in d:\\guild\\tdl_ta\\.conda\\lib\\site-packages (from langsmith<0.2.0,>=0.1.17->langchain) (3.9.15)\n",
      "Requirement already satisfied: annotated-types>=0.4.0 in d:\\guild\\tdl_ta\\.conda\\lib\\site-packages (from pydantic<3,>=1->langchain) (0.6.0)\n",
      "Requirement already satisfied: pydantic-core==2.16.3 in d:\\guild\\tdl_ta\\.conda\\lib\\site-packages (from pydantic<3,>=1->langchain) (2.16.3)\n",
      "Requirement already satisfied: typing-extensions>=4.6.1 in d:\\guild\\tdl_ta\\.conda\\lib\\site-packages (from pydantic<3,>=1->langchain) (4.9.0)\n",
      "Requirement already satisfied: charset-normalizer<3,>=2 in d:\\guild\\tdl_ta\\.conda\\lib\\site-packages (from requests<3,>=2->langchain) (2.1.1)\n",
      "Requirement already satisfied: idna<4,>=2.5 in d:\\guild\\tdl_ta\\.conda\\lib\\site-packages (from requests<3,>=2->langchain) (3.4)\n",
      "Requirement already satisfied: urllib3<1.27,>=1.21.1 in d:\\guild\\tdl_ta\\.conda\\lib\\site-packages (from requests<3,>=2->langchain) (1.26.13)\n",
      "Requirement already satisfied: certifi>=2017.4.17 in d:\\guild\\tdl_ta\\.conda\\lib\\site-packages (from requests<3,>=2->langchain) (2022.12.7)\n",
      "Requirement already satisfied: greenlet!=0.4.17 in d:\\guild\\tdl_ta\\.conda\\lib\\site-packages (from SQLAlchemy<3,>=1.4->langchain) (3.0.3)\n",
      "Requirement already satisfied: sniffio>=1.1 in d:\\guild\\tdl_ta\\.conda\\lib\\site-packages (from anyio<5,>=3->langchain-core<0.2,>=0.1.29->langchain) (1.3.1)\n",
      "Requirement already satisfied: exceptiongroup>=1.0.2 in d:\\guild\\tdl_ta\\.conda\\lib\\site-packages (from anyio<5,>=3->langchain-core<0.2,>=0.1.29->langchain) (1.2.0)\n",
      "Requirement already satisfied: mypy-extensions>=0.3.0 in d:\\guild\\tdl_ta\\.conda\\lib\\site-packages (from typing-inspect<1,>=0.4.0->dataclasses-json<0.7,>=0.5.7->langchain) (1.0.0)\n",
      "Note: you may need to restart the kernel to use updated packages.\n",
      "Requirement already satisfied: torch in d:\\guild\\tdl_ta\\.conda\\lib\\site-packages (2.2.0+cu118)\n",
      "Requirement already satisfied: filelock in d:\\guild\\tdl_ta\\.conda\\lib\\site-packages (from torch) (3.9.0)\n",
      "Requirement already satisfied: typing-extensions>=4.8.0 in d:\\guild\\tdl_ta\\.conda\\lib\\site-packages (from torch) (4.9.0)\n",
      "Requirement already satisfied: sympy in d:\\guild\\tdl_ta\\.conda\\lib\\site-packages (from torch) (1.12)\n",
      "Requirement already satisfied: networkx in d:\\guild\\tdl_ta\\.conda\\lib\\site-packages (from torch) (3.2.1)\n",
      "Requirement already satisfied: jinja2 in d:\\guild\\tdl_ta\\.conda\\lib\\site-packages (from torch) (3.1.2)\n",
      "Requirement already satisfied: fsspec in d:\\guild\\tdl_ta\\.conda\\lib\\site-packages (from torch) (2024.2.0)\n",
      "Requirement already satisfied: MarkupSafe>=2.0 in d:\\guild\\tdl_ta\\.conda\\lib\\site-packages (from jinja2->torch) (2.1.3)\n",
      "Requirement already satisfied: mpmath>=0.19 in d:\\guild\\tdl_ta\\.conda\\lib\\site-packages (from sympy->torch) (1.3.0)\n",
      "Note: you may need to restart the kernel to use updated packages.\n",
      "Requirement already satisfied: sentence_transformers in d:\\guild\\tdl_ta\\.conda\\lib\\site-packages (2.5.1)\n",
      "Requirement already satisfied: transformers<5.0.0,>=4.32.0 in d:\\guild\\tdl_ta\\.conda\\lib\\site-packages (from sentence_transformers) (4.40.0.dev0)\n",
      "Requirement already satisfied: tqdm in d:\\guild\\tdl_ta\\.conda\\lib\\site-packages (from sentence_transformers) (4.66.2)\n",
      "Requirement already satisfied: torch>=1.11.0 in d:\\guild\\tdl_ta\\.conda\\lib\\site-packages (from sentence_transformers) (2.2.0+cu118)\n",
      "Requirement already satisfied: numpy in d:\\guild\\tdl_ta\\.conda\\lib\\site-packages (from sentence_transformers) (1.26.3)\n",
      "Requirement already satisfied: scikit-learn in d:\\guild\\tdl_ta\\.conda\\lib\\site-packages (from sentence_transformers) (1.4.0)\n",
      "Requirement already satisfied: scipy in d:\\guild\\tdl_ta\\.conda\\lib\\site-packages (from sentence_transformers) (1.12.0)\n",
      "Requirement already satisfied: huggingface-hub>=0.15.1 in d:\\guild\\tdl_ta\\.conda\\lib\\site-packages (from sentence_transformers) (0.21.3)\n",
      "Requirement already satisfied: Pillow in d:\\guild\\tdl_ta\\.conda\\lib\\site-packages (from sentence_transformers) (10.2.0)\n",
      "Requirement already satisfied: filelock in d:\\guild\\tdl_ta\\.conda\\lib\\site-packages (from huggingface-hub>=0.15.1->sentence_transformers) (3.9.0)\n",
      "Requirement already satisfied: fsspec>=2023.5.0 in d:\\guild\\tdl_ta\\.conda\\lib\\site-packages (from huggingface-hub>=0.15.1->sentence_transformers) (2024.2.0)\n",
      "Requirement already satisfied: requests in d:\\guild\\tdl_ta\\.conda\\lib\\site-packages (from huggingface-hub>=0.15.1->sentence_transformers) (2.28.1)\n",
      "Requirement already satisfied: pyyaml>=5.1 in d:\\guild\\tdl_ta\\.conda\\lib\\site-packages (from huggingface-hub>=0.15.1->sentence_transformers) (6.0.1)\n",
      "Requirement already satisfied: typing-extensions>=3.7.4.3 in d:\\guild\\tdl_ta\\.conda\\lib\\site-packages (from huggingface-hub>=0.15.1->sentence_transformers) (4.9.0)\n",
      "Requirement already satisfied: packaging>=20.9 in d:\\guild\\tdl_ta\\.conda\\lib\\site-packages (from huggingface-hub>=0.15.1->sentence_transformers) (23.2)\n",
      "Requirement already satisfied: sympy in d:\\guild\\tdl_ta\\.conda\\lib\\site-packages (from torch>=1.11.0->sentence_transformers) (1.12)\n",
      "Requirement already satisfied: networkx in d:\\guild\\tdl_ta\\.conda\\lib\\site-packages (from torch>=1.11.0->sentence_transformers) (3.2.1)\n",
      "Requirement already satisfied: jinja2 in d:\\guild\\tdl_ta\\.conda\\lib\\site-packages (from torch>=1.11.0->sentence_transformers) (3.1.2)\n",
      "Requirement already satisfied: colorama in d:\\guild\\tdl_ta\\.conda\\lib\\site-packages (from tqdm->sentence_transformers) (0.4.6)\n",
      "Requirement already satisfied: regex!=2019.12.17 in d:\\guild\\tdl_ta\\.conda\\lib\\site-packages (from transformers<5.0.0,>=4.32.0->sentence_transformers) (2023.12.25)\n",
      "Requirement already satisfied: tokenizers<0.19,>=0.14 in d:\\guild\\tdl_ta\\.conda\\lib\\site-packages (from transformers<5.0.0,>=4.32.0->sentence_transformers) (0.15.2)\n",
      "Requirement already satisfied: safetensors>=0.4.1 in d:\\guild\\tdl_ta\\.conda\\lib\\site-packages (from transformers<5.0.0,>=4.32.0->sentence_transformers) (0.4.2)\n",
      "Requirement already satisfied: joblib>=1.2.0 in d:\\guild\\tdl_ta\\.conda\\lib\\site-packages (from scikit-learn->sentence_transformers) (1.3.2)\n",
      "Requirement already satisfied: threadpoolctl>=2.0.0 in d:\\guild\\tdl_ta\\.conda\\lib\\site-packages (from scikit-learn->sentence_transformers) (3.2.0)\n",
      "Requirement already satisfied: MarkupSafe>=2.0 in d:\\guild\\tdl_ta\\.conda\\lib\\site-packages (from jinja2->torch>=1.11.0->sentence_transformers) (2.1.3)\n",
      "Requirement already satisfied: charset-normalizer<3,>=2 in d:\\guild\\tdl_ta\\.conda\\lib\\site-packages (from requests->huggingface-hub>=0.15.1->sentence_transformers) (2.1.1)\n",
      "Requirement already satisfied: idna<4,>=2.5 in d:\\guild\\tdl_ta\\.conda\\lib\\site-packages (from requests->huggingface-hub>=0.15.1->sentence_transformers) (3.4)\n",
      "Requirement already satisfied: urllib3<1.27,>=1.21.1 in d:\\guild\\tdl_ta\\.conda\\lib\\site-packages (from requests->huggingface-hub>=0.15.1->sentence_transformers) (1.26.13)\n",
      "Requirement already satisfied: certifi>=2017.4.17 in d:\\guild\\tdl_ta\\.conda\\lib\\site-packages (from requests->huggingface-hub>=0.15.1->sentence_transformers) (2022.12.7)\n",
      "Requirement already satisfied: mpmath>=0.19 in d:\\guild\\tdl_ta\\.conda\\lib\\site-packages (from sympy->torch>=1.11.0->sentence_transformers) (1.3.0)\n",
      "Note: you may need to restart the kernel to use updated packages.\n",
      "Requirement already satisfied: faiss-cpu in d:\\guild\\tdl_ta\\.conda\\lib\\site-packages (1.8.0)\n",
      "Requirement already satisfied: numpy in d:\\guild\\tdl_ta\\.conda\\lib\\site-packages (from faiss-cpu) (1.26.3)\n",
      "Note: you may need to restart the kernel to use updated packages.\n",
      "Requirement already satisfied: huggingface-hub in d:\\guild\\tdl_ta\\.conda\\lib\\site-packages (0.21.3)\n",
      "Requirement already satisfied: filelock in d:\\guild\\tdl_ta\\.conda\\lib\\site-packages (from huggingface-hub) (3.9.0)\n",
      "Requirement already satisfied: fsspec>=2023.5.0 in d:\\guild\\tdl_ta\\.conda\\lib\\site-packages (from huggingface-hub) (2024.2.0)\n",
      "Requirement already satisfied: requests in d:\\guild\\tdl_ta\\.conda\\lib\\site-packages (from huggingface-hub) (2.28.1)\n",
      "Requirement already satisfied: tqdm>=4.42.1 in d:\\guild\\tdl_ta\\.conda\\lib\\site-packages (from huggingface-hub) (4.66.2)\n",
      "Requirement already satisfied: pyyaml>=5.1 in d:\\guild\\tdl_ta\\.conda\\lib\\site-packages (from huggingface-hub) (6.0.1)\n",
      "Requirement already satisfied: typing-extensions>=3.7.4.3 in d:\\guild\\tdl_ta\\.conda\\lib\\site-packages (from huggingface-hub) (4.9.0)\n",
      "Requirement already satisfied: packaging>=20.9 in d:\\guild\\tdl_ta\\.conda\\lib\\site-packages (from huggingface-hub) (23.2)\n",
      "Requirement already satisfied: colorama in d:\\guild\\tdl_ta\\.conda\\lib\\site-packages (from tqdm>=4.42.1->huggingface-hub) (0.4.6)\n",
      "Requirement already satisfied: charset-normalizer<3,>=2 in d:\\guild\\tdl_ta\\.conda\\lib\\site-packages (from requests->huggingface-hub) (2.1.1)\n",
      "Requirement already satisfied: idna<4,>=2.5 in d:\\guild\\tdl_ta\\.conda\\lib\\site-packages (from requests->huggingface-hub) (3.4)\n",
      "Requirement already satisfied: urllib3<1.27,>=1.21.1 in d:\\guild\\tdl_ta\\.conda\\lib\\site-packages (from requests->huggingface-hub) (1.26.13)\n",
      "Requirement already satisfied: certifi>=2017.4.17 in d:\\guild\\tdl_ta\\.conda\\lib\\site-packages (from requests->huggingface-hub) (2022.12.7)\n",
      "Note: you may need to restart the kernel to use updated packages.\n",
      "Requirement already satisfied: pypdf in d:\\guild\\tdl_ta\\.conda\\lib\\site-packages (4.1.0)\n",
      "Note: you may need to restart the kernel to use updated packages.\n",
      "Requirement already satisfied: tiktoken in d:\\guild\\tdl_ta\\.conda\\lib\\site-packages (0.6.0)\n",
      "Requirement already satisfied: regex>=2022.1.18 in d:\\guild\\tdl_ta\\.conda\\lib\\site-packages (from tiktoken) (2023.12.25)\n",
      "Requirement already satisfied: requests>=2.26.0 in d:\\guild\\tdl_ta\\.conda\\lib\\site-packages (from tiktoken) (2.28.1)\n",
      "Requirement already satisfied: charset-normalizer<3,>=2 in d:\\guild\\tdl_ta\\.conda\\lib\\site-packages (from requests>=2.26.0->tiktoken) (2.1.1)\n",
      "Requirement already satisfied: idna<4,>=2.5 in d:\\guild\\tdl_ta\\.conda\\lib\\site-packages (from requests>=2.26.0->tiktoken) (3.4)\n",
      "Requirement already satisfied: urllib3<1.27,>=1.21.1 in d:\\guild\\tdl_ta\\.conda\\lib\\site-packages (from requests>=2.26.0->tiktoken) (1.26.13)\n",
      "Requirement already satisfied: certifi>=2017.4.17 in d:\\guild\\tdl_ta\\.conda\\lib\\site-packages (from requests>=2.26.0->tiktoken) (2022.12.7)\n",
      "Note: you may need to restart the kernel to use updated packages.\n",
      "Note: you may need to restart the kernel to use updated packages.\n",
      "Note: you may need to restart the kernel to use updated packages.\n"
     ]
    },
    {
     "name": "stderr",
     "output_type": "stream",
     "text": [
      "ERROR: Could not find a version that satisfies the requirement llama-cpu-python (from versions: none)\n",
      "ERROR: No matching distribution found for llama-cpu-python\n"
     ]
    },
    {
     "name": "stdout",
     "output_type": "stream",
     "text": [
      "Note: you may need to restart the kernel to use updated packages.\n"
     ]
    }
   ],
   "source": [
    "%pip install langchain\n",
    "%pip install torch\n",
    "%pip install sentence_transformers\n",
    "%pip install faiss-cpu\n",
    "%pip install huggingface-hub\n",
    "%pip install pypdf\n",
    "%pip install tiktoken\n",
    "%pip -q install accelerate\n",
    "%pip install llama-cpu-python\n",
    "%pip -q install git+https://github.com/huggingface/transformers"
   ]
  },
  {
   "cell_type": "markdown",
   "metadata": {},
   "source": [
    "2. Importing all the necessary for RAG with open-source LLM & langchain"
   ]
  },
  {
   "cell_type": "code",
   "execution_count": 2,
   "metadata": {},
   "outputs": [],
   "source": [
    "from langchain.chains import RetrievalQA\n",
    "from langchain.embeddings import HuggingFaceEmbeddings\n",
    "from langchain.llms import LlamaCpp\n",
    "from langchain.text_splitter import RecursiveCharacterTextSplitter\n",
    "from langchain.vectorstores import FAISS\n",
    "from langchain.document_loaders import PyPDFDirectoryLoader"
   ]
  },
  {
   "cell_type": "code",
   "execution_count": null,
   "metadata": {},
   "outputs": [],
   "source": []
  }
 ],
 "metadata": {
  "kernelspec": {
   "display_name": "Python 3",
   "language": "python",
   "name": "python3"
  },
  "language_info": {
   "codemirror_mode": {
    "name": "ipython",
    "version": 3
   },
   "file_extension": ".py",
   "mimetype": "text/x-python",
   "name": "python",
   "nbconvert_exporter": "python",
   "pygments_lexer": "ipython3",
   "version": "3.10.13"
  }
 },
 "nbformat": 4,
 "nbformat_minor": 2
}
