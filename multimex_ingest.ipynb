{
 "cells": [
  {
   "cell_type": "markdown",
   "metadata": {},
   "source": [
    "# CogniAble\n",
    "## Integration of Retrieval Augmented Generation (RAG) with Open Source LLM and LangChain for Autism Intervention Research.\n",
    "> - By - Nandan Hemanth\n",
    "> - Github repo: - https://github.com/NandanHemanth/Multimex-ingestion \n",
    "> - Resume - https://drive.google.com/file/d/1IB6X_G7mPwvzv1M8I0QiV099_02bylI2/view?usp=sharing \n",
    "---\n"
   ]
  },
  {
   "cell_type": "code",
   "execution_count": 1,
   "metadata": {},
   "outputs": [
    {
     "name": "stdout",
     "output_type": "stream",
     "text": [
      "Fri Apr 12 21:22:46 2024       \n",
      "+-----------------------------------------------------------------------------------------+\n",
      "| NVIDIA-SMI 551.86                 Driver Version: 551.86         CUDA Version: 12.4     |\n",
      "|-----------------------------------------+------------------------+----------------------+\n",
      "| GPU  Name                     TCC/WDDM  | Bus-Id          Disp.A | Volatile Uncorr. ECC |\n",
      "| Fan  Temp   Perf          Pwr:Usage/Cap |           Memory-Usage | GPU-Util  Compute M. |\n",
      "|                                         |                        |               MIG M. |\n",
      "|=========================================+========================+======================|\n",
      "|   0  NVIDIA GeForce RTX 3060 ...  WDDM  |   00000000:01:00.0 Off |                  N/A |\n",
      "| N/A   51C    P8              9W /   95W |     405MiB /   6144MiB |      0%      Default |\n",
      "|                                         |                        |                  N/A |\n",
      "+-----------------------------------------+------------------------+----------------------+\n",
      "                                                                                         \n",
      "+-----------------------------------------------------------------------------------------+\n",
      "| Processes:                                                                              |\n",
      "|  GPU   GI   CI        PID   Type   Process name                              GPU Memory |\n",
      "|        ID   ID                                                               Usage      |\n",
      "|=========================================================================================|\n",
      "|    0   N/A  N/A     12552      C   ...ta\\Local\\Programs\\Ollama\\ollama.exe      N/A      |\n",
      "+-----------------------------------------------------------------------------------------+\n"
     ]
    }
   ],
   "source": [
    "!nvidia-smi"
   ]
  },
  {
   "cell_type": "markdown",
   "metadata": {},
   "source": [
    "## 1. Installing all the necessary libraries for this task :"
   ]
  },
  {
   "cell_type": "code",
   "execution_count": 2,
   "metadata": {},
   "outputs": [
    {
     "name": "stdout",
     "output_type": "stream",
     "text": [
      "Requirement already satisfied: langchain in d:\\guild\\tdl_ta\\.conda\\lib\\site-packages (0.1.11)\n",
      "Requirement already satisfied: PyYAML>=5.3 in d:\\guild\\tdl_ta\\.conda\\lib\\site-packages (from langchain) (6.0.1)\n",
      "Requirement already satisfied: SQLAlchemy<3,>=1.4 in d:\\guild\\tdl_ta\\.conda\\lib\\site-packages (from langchain) (2.0.28)\n",
      "Requirement already satisfied: aiohttp<4.0.0,>=3.8.3 in d:\\guild\\tdl_ta\\.conda\\lib\\site-packages (from langchain) (3.9.3)\n",
      "Requirement already satisfied: async-timeout<5.0.0,>=4.0.0 in d:\\guild\\tdl_ta\\.conda\\lib\\site-packages (from langchain) (4.0.3)\n",
      "Requirement already satisfied: dataclasses-json<0.7,>=0.5.7 in d:\\guild\\tdl_ta\\.conda\\lib\\site-packages (from langchain) (0.6.4)\n",
      "Requirement already satisfied: jsonpatch<2.0,>=1.33 in d:\\guild\\tdl_ta\\.conda\\lib\\site-packages (from langchain) (1.33)\n",
      "Requirement already satisfied: langchain-community<0.1,>=0.0.25 in d:\\guild\\tdl_ta\\.conda\\lib\\site-packages (from langchain) (0.0.25)\n",
      "Requirement already satisfied: langchain-core<0.2,>=0.1.29 in d:\\guild\\tdl_ta\\.conda\\lib\\site-packages (from langchain) (0.1.29)\n",
      "Requirement already satisfied: langchain-text-splitters<0.1,>=0.0.1 in d:\\guild\\tdl_ta\\.conda\\lib\\site-packages (from langchain) (0.0.1)\n",
      "Requirement already satisfied: langsmith<0.2.0,>=0.1.17 in d:\\guild\\tdl_ta\\.conda\\lib\\site-packages (from langchain) (0.1.22)\n",
      "Requirement already satisfied: numpy<2,>=1 in d:\\guild\\tdl_ta\\.conda\\lib\\site-packages (from langchain) (1.26.3)\n",
      "Requirement already satisfied: pydantic<3,>=1 in d:\\guild\\tdl_ta\\.conda\\lib\\site-packages (from langchain) (2.6.3)\n",
      "Requirement already satisfied: requests<3,>=2 in d:\\guild\\tdl_ta\\.conda\\lib\\site-packages (from langchain) (2.28.1)\n",
      "Requirement already satisfied: tenacity<9.0.0,>=8.1.0 in d:\\guild\\tdl_ta\\.conda\\lib\\site-packages (from langchain) (8.2.3)\n",
      "Requirement already satisfied: aiosignal>=1.1.2 in d:\\guild\\tdl_ta\\.conda\\lib\\site-packages (from aiohttp<4.0.0,>=3.8.3->langchain) (1.3.1)\n",
      "Requirement already satisfied: attrs>=17.3.0 in d:\\guild\\tdl_ta\\.conda\\lib\\site-packages (from aiohttp<4.0.0,>=3.8.3->langchain) (23.2.0)\n",
      "Requirement already satisfied: frozenlist>=1.1.1 in d:\\guild\\tdl_ta\\.conda\\lib\\site-packages (from aiohttp<4.0.0,>=3.8.3->langchain) (1.4.1)\n",
      "Requirement already satisfied: multidict<7.0,>=4.5 in d:\\guild\\tdl_ta\\.conda\\lib\\site-packages (from aiohttp<4.0.0,>=3.8.3->langchain) (6.0.5)\n",
      "Requirement already satisfied: yarl<2.0,>=1.0 in d:\\guild\\tdl_ta\\.conda\\lib\\site-packages (from aiohttp<4.0.0,>=3.8.3->langchain) (1.9.4)\n",
      "Requirement already satisfied: marshmallow<4.0.0,>=3.18.0 in d:\\guild\\tdl_ta\\.conda\\lib\\site-packages (from dataclasses-json<0.7,>=0.5.7->langchain) (3.21.1)\n",
      "Requirement already satisfied: typing-inspect<1,>=0.4.0 in d:\\guild\\tdl_ta\\.conda\\lib\\site-packages (from dataclasses-json<0.7,>=0.5.7->langchain) (0.9.0)\n",
      "Requirement already satisfied: jsonpointer>=1.9 in d:\\guild\\tdl_ta\\.conda\\lib\\site-packages (from jsonpatch<2.0,>=1.33->langchain) (2.4)\n",
      "Requirement already satisfied: anyio<5,>=3 in d:\\guild\\tdl_ta\\.conda\\lib\\site-packages (from langchain-core<0.2,>=0.1.29->langchain) (4.3.0)\n",
      "Requirement already satisfied: packaging<24.0,>=23.2 in d:\\guild\\tdl_ta\\.conda\\lib\\site-packages (from langchain-core<0.2,>=0.1.29->langchain) (23.2)\n",
      "Requirement already satisfied: orjson<4.0.0,>=3.9.14 in d:\\guild\\tdl_ta\\.conda\\lib\\site-packages (from langsmith<0.2.0,>=0.1.17->langchain) (3.9.15)\n",
      "Requirement already satisfied: annotated-types>=0.4.0 in d:\\guild\\tdl_ta\\.conda\\lib\\site-packages (from pydantic<3,>=1->langchain) (0.6.0)\n",
      "Requirement already satisfied: pydantic-core==2.16.3 in d:\\guild\\tdl_ta\\.conda\\lib\\site-packages (from pydantic<3,>=1->langchain) (2.16.3)\n",
      "Requirement already satisfied: typing-extensions>=4.6.1 in d:\\guild\\tdl_ta\\.conda\\lib\\site-packages (from pydantic<3,>=1->langchain) (4.9.0)\n",
      "Requirement already satisfied: charset-normalizer<3,>=2 in d:\\guild\\tdl_ta\\.conda\\lib\\site-packages (from requests<3,>=2->langchain) (2.1.1)\n",
      "Requirement already satisfied: idna<4,>=2.5 in d:\\guild\\tdl_ta\\.conda\\lib\\site-packages (from requests<3,>=2->langchain) (3.4)\n",
      "Requirement already satisfied: urllib3<1.27,>=1.21.1 in d:\\guild\\tdl_ta\\.conda\\lib\\site-packages (from requests<3,>=2->langchain) (1.26.13)\n",
      "Requirement already satisfied: certifi>=2017.4.17 in d:\\guild\\tdl_ta\\.conda\\lib\\site-packages (from requests<3,>=2->langchain) (2022.12.7)\n",
      "Requirement already satisfied: greenlet!=0.4.17 in d:\\guild\\tdl_ta\\.conda\\lib\\site-packages (from SQLAlchemy<3,>=1.4->langchain) (3.0.3)\n",
      "Requirement already satisfied: sniffio>=1.1 in d:\\guild\\tdl_ta\\.conda\\lib\\site-packages (from anyio<5,>=3->langchain-core<0.2,>=0.1.29->langchain) (1.3.1)\n",
      "Requirement already satisfied: exceptiongroup>=1.0.2 in d:\\guild\\tdl_ta\\.conda\\lib\\site-packages (from anyio<5,>=3->langchain-core<0.2,>=0.1.29->langchain) (1.2.0)\n",
      "Requirement already satisfied: mypy-extensions>=0.3.0 in d:\\guild\\tdl_ta\\.conda\\lib\\site-packages (from typing-inspect<1,>=0.4.0->dataclasses-json<0.7,>=0.5.7->langchain) (1.0.0)\n",
      "Note: you may need to restart the kernel to use updated packages.\n",
      "Requirement already satisfied: torch in d:\\guild\\tdl_ta\\.conda\\lib\\site-packages (2.2.0+cu118)\n",
      "Requirement already satisfied: filelock in d:\\guild\\tdl_ta\\.conda\\lib\\site-packages (from torch) (3.9.0)\n",
      "Requirement already satisfied: typing-extensions>=4.8.0 in d:\\guild\\tdl_ta\\.conda\\lib\\site-packages (from torch) (4.9.0)\n",
      "Requirement already satisfied: sympy in d:\\guild\\tdl_ta\\.conda\\lib\\site-packages (from torch) (1.12)\n",
      "Requirement already satisfied: networkx in d:\\guild\\tdl_ta\\.conda\\lib\\site-packages (from torch) (3.2.1)\n",
      "Requirement already satisfied: jinja2 in d:\\guild\\tdl_ta\\.conda\\lib\\site-packages (from torch) (3.1.2)\n",
      "Requirement already satisfied: fsspec in d:\\guild\\tdl_ta\\.conda\\lib\\site-packages (from torch) (2024.2.0)\n",
      "Requirement already satisfied: MarkupSafe>=2.0 in d:\\guild\\tdl_ta\\.conda\\lib\\site-packages (from jinja2->torch) (2.1.3)\n",
      "Requirement already satisfied: mpmath>=0.19 in d:\\guild\\tdl_ta\\.conda\\lib\\site-packages (from sympy->torch) (1.3.0)\n",
      "Note: you may need to restart the kernel to use updated packages.\n",
      "Requirement already satisfied: sentence_transformers in d:\\guild\\tdl_ta\\.conda\\lib\\site-packages (2.5.1)\n",
      "Requirement already satisfied: transformers<5.0.0,>=4.32.0 in d:\\guild\\tdl_ta\\.conda\\lib\\site-packages (from sentence_transformers) (4.40.0.dev0)\n",
      "Requirement already satisfied: tqdm in d:\\guild\\tdl_ta\\.conda\\lib\\site-packages (from sentence_transformers) (4.66.2)\n",
      "Requirement already satisfied: torch>=1.11.0 in d:\\guild\\tdl_ta\\.conda\\lib\\site-packages (from sentence_transformers) (2.2.0+cu118)\n",
      "Requirement already satisfied: numpy in d:\\guild\\tdl_ta\\.conda\\lib\\site-packages (from sentence_transformers) (1.26.3)\n",
      "Requirement already satisfied: scikit-learn in d:\\guild\\tdl_ta\\.conda\\lib\\site-packages (from sentence_transformers) (1.4.0)\n",
      "Requirement already satisfied: scipy in d:\\guild\\tdl_ta\\.conda\\lib\\site-packages (from sentence_transformers) (1.12.0)\n",
      "Requirement already satisfied: huggingface-hub>=0.15.1 in d:\\guild\\tdl_ta\\.conda\\lib\\site-packages (from sentence_transformers) (0.21.3)\n",
      "Requirement already satisfied: Pillow in d:\\guild\\tdl_ta\\.conda\\lib\\site-packages (from sentence_transformers) (10.2.0)\n",
      "Requirement already satisfied: filelock in d:\\guild\\tdl_ta\\.conda\\lib\\site-packages (from huggingface-hub>=0.15.1->sentence_transformers) (3.9.0)\n",
      "Requirement already satisfied: fsspec>=2023.5.0 in d:\\guild\\tdl_ta\\.conda\\lib\\site-packages (from huggingface-hub>=0.15.1->sentence_transformers) (2024.2.0)\n",
      "Requirement already satisfied: requests in d:\\guild\\tdl_ta\\.conda\\lib\\site-packages (from huggingface-hub>=0.15.1->sentence_transformers) (2.28.1)\n",
      "Requirement already satisfied: pyyaml>=5.1 in d:\\guild\\tdl_ta\\.conda\\lib\\site-packages (from huggingface-hub>=0.15.1->sentence_transformers) (6.0.1)\n",
      "Requirement already satisfied: typing-extensions>=3.7.4.3 in d:\\guild\\tdl_ta\\.conda\\lib\\site-packages (from huggingface-hub>=0.15.1->sentence_transformers) (4.9.0)\n",
      "Requirement already satisfied: packaging>=20.9 in d:\\guild\\tdl_ta\\.conda\\lib\\site-packages (from huggingface-hub>=0.15.1->sentence_transformers) (23.2)\n",
      "Requirement already satisfied: sympy in d:\\guild\\tdl_ta\\.conda\\lib\\site-packages (from torch>=1.11.0->sentence_transformers) (1.12)\n",
      "Requirement already satisfied: networkx in d:\\guild\\tdl_ta\\.conda\\lib\\site-packages (from torch>=1.11.0->sentence_transformers) (3.2.1)\n",
      "Requirement already satisfied: jinja2 in d:\\guild\\tdl_ta\\.conda\\lib\\site-packages (from torch>=1.11.0->sentence_transformers) (3.1.2)\n",
      "Requirement already satisfied: colorama in d:\\guild\\tdl_ta\\.conda\\lib\\site-packages (from tqdm->sentence_transformers) (0.4.6)\n",
      "Requirement already satisfied: regex!=2019.12.17 in d:\\guild\\tdl_ta\\.conda\\lib\\site-packages (from transformers<5.0.0,>=4.32.0->sentence_transformers) (2023.12.25)\n",
      "Requirement already satisfied: tokenizers<0.19,>=0.14 in d:\\guild\\tdl_ta\\.conda\\lib\\site-packages (from transformers<5.0.0,>=4.32.0->sentence_transformers) (0.15.2)\n",
      "Requirement already satisfied: safetensors>=0.4.1 in d:\\guild\\tdl_ta\\.conda\\lib\\site-packages (from transformers<5.0.0,>=4.32.0->sentence_transformers) (0.4.2)\n",
      "Requirement already satisfied: joblib>=1.2.0 in d:\\guild\\tdl_ta\\.conda\\lib\\site-packages (from scikit-learn->sentence_transformers) (1.3.2)\n",
      "Requirement already satisfied: threadpoolctl>=2.0.0 in d:\\guild\\tdl_ta\\.conda\\lib\\site-packages (from scikit-learn->sentence_transformers) (3.2.0)\n",
      "Requirement already satisfied: MarkupSafe>=2.0 in d:\\guild\\tdl_ta\\.conda\\lib\\site-packages (from jinja2->torch>=1.11.0->sentence_transformers) (2.1.3)\n",
      "Requirement already satisfied: charset-normalizer<3,>=2 in d:\\guild\\tdl_ta\\.conda\\lib\\site-packages (from requests->huggingface-hub>=0.15.1->sentence_transformers) (2.1.1)\n",
      "Requirement already satisfied: idna<4,>=2.5 in d:\\guild\\tdl_ta\\.conda\\lib\\site-packages (from requests->huggingface-hub>=0.15.1->sentence_transformers) (3.4)\n",
      "Requirement already satisfied: urllib3<1.27,>=1.21.1 in d:\\guild\\tdl_ta\\.conda\\lib\\site-packages (from requests->huggingface-hub>=0.15.1->sentence_transformers) (1.26.13)\n",
      "Requirement already satisfied: certifi>=2017.4.17 in d:\\guild\\tdl_ta\\.conda\\lib\\site-packages (from requests->huggingface-hub>=0.15.1->sentence_transformers) (2022.12.7)\n",
      "Requirement already satisfied: mpmath>=0.19 in d:\\guild\\tdl_ta\\.conda\\lib\\site-packages (from sympy->torch>=1.11.0->sentence_transformers) (1.3.0)\n",
      "Note: you may need to restart the kernel to use updated packages.\n",
      "Requirement already satisfied: huggingface-hub in d:\\guild\\tdl_ta\\.conda\\lib\\site-packages (0.21.3)\n",
      "Requirement already satisfied: filelock in d:\\guild\\tdl_ta\\.conda\\lib\\site-packages (from huggingface-hub) (3.9.0)\n",
      "Requirement already satisfied: fsspec>=2023.5.0 in d:\\guild\\tdl_ta\\.conda\\lib\\site-packages (from huggingface-hub) (2024.2.0)\n",
      "Requirement already satisfied: requests in d:\\guild\\tdl_ta\\.conda\\lib\\site-packages (from huggingface-hub) (2.28.1)\n",
      "Requirement already satisfied: tqdm>=4.42.1 in d:\\guild\\tdl_ta\\.conda\\lib\\site-packages (from huggingface-hub) (4.66.2)\n",
      "Requirement already satisfied: pyyaml>=5.1 in d:\\guild\\tdl_ta\\.conda\\lib\\site-packages (from huggingface-hub) (6.0.1)\n",
      "Requirement already satisfied: typing-extensions>=3.7.4.3 in d:\\guild\\tdl_ta\\.conda\\lib\\site-packages (from huggingface-hub) (4.9.0)\n",
      "Requirement already satisfied: packaging>=20.9 in d:\\guild\\tdl_ta\\.conda\\lib\\site-packages (from huggingface-hub) (23.2)\n",
      "Requirement already satisfied: colorama in d:\\guild\\tdl_ta\\.conda\\lib\\site-packages (from tqdm>=4.42.1->huggingface-hub) (0.4.6)\n",
      "Requirement already satisfied: charset-normalizer<3,>=2 in d:\\guild\\tdl_ta\\.conda\\lib\\site-packages (from requests->huggingface-hub) (2.1.1)\n",
      "Requirement already satisfied: idna<4,>=2.5 in d:\\guild\\tdl_ta\\.conda\\lib\\site-packages (from requests->huggingface-hub) (3.4)\n",
      "Requirement already satisfied: urllib3<1.27,>=1.21.1 in d:\\guild\\tdl_ta\\.conda\\lib\\site-packages (from requests->huggingface-hub) (1.26.13)\n",
      "Requirement already satisfied: certifi>=2017.4.17 in d:\\guild\\tdl_ta\\.conda\\lib\\site-packages (from requests->huggingface-hub) (2022.12.7)\n",
      "Note: you may need to restart the kernel to use updated packages.\n",
      "Requirement already satisfied: pypdf in d:\\guild\\tdl_ta\\.conda\\lib\\site-packages (4.1.0)\n",
      "Note: you may need to restart the kernel to use updated packages.\n",
      "Requirement already satisfied: tiktoken in d:\\guild\\tdl_ta\\.conda\\lib\\site-packages (0.6.0)\n",
      "Requirement already satisfied: regex>=2022.1.18 in d:\\guild\\tdl_ta\\.conda\\lib\\site-packages (from tiktoken) (2023.12.25)\n",
      "Requirement already satisfied: requests>=2.26.0 in d:\\guild\\tdl_ta\\.conda\\lib\\site-packages (from tiktoken) (2.28.1)\n",
      "Requirement already satisfied: charset-normalizer<3,>=2 in d:\\guild\\tdl_ta\\.conda\\lib\\site-packages (from requests>=2.26.0->tiktoken) (2.1.1)\n",
      "Requirement already satisfied: idna<4,>=2.5 in d:\\guild\\tdl_ta\\.conda\\lib\\site-packages (from requests>=2.26.0->tiktoken) (3.4)\n",
      "Requirement already satisfied: urllib3<1.27,>=1.21.1 in d:\\guild\\tdl_ta\\.conda\\lib\\site-packages (from requests>=2.26.0->tiktoken) (1.26.13)\n",
      "Requirement already satisfied: certifi>=2017.4.17 in d:\\guild\\tdl_ta\\.conda\\lib\\site-packages (from requests>=2.26.0->tiktoken) (2022.12.7)\n",
      "Note: you may need to restart the kernel to use updated packages.\n",
      "Note: you may need to restart the kernel to use updated packages.\n",
      "Requirement already satisfied: ollama in d:\\guild\\tdl_ta\\.conda\\lib\\site-packages (0.1.8)\n",
      "Requirement already satisfied: httpx<0.28.0,>=0.27.0 in d:\\guild\\tdl_ta\\.conda\\lib\\site-packages (from ollama) (0.27.0)\n",
      "Requirement already satisfied: anyio in d:\\guild\\tdl_ta\\.conda\\lib\\site-packages (from httpx<0.28.0,>=0.27.0->ollama) (4.3.0)\n",
      "Requirement already satisfied: certifi in d:\\guild\\tdl_ta\\.conda\\lib\\site-packages (from httpx<0.28.0,>=0.27.0->ollama) (2022.12.7)\n",
      "Requirement already satisfied: httpcore==1.* in d:\\guild\\tdl_ta\\.conda\\lib\\site-packages (from httpx<0.28.0,>=0.27.0->ollama) (1.0.4)\n",
      "Requirement already satisfied: idna in d:\\guild\\tdl_ta\\.conda\\lib\\site-packages (from httpx<0.28.0,>=0.27.0->ollama) (3.4)\n",
      "Requirement already satisfied: sniffio in d:\\guild\\tdl_ta\\.conda\\lib\\site-packages (from httpx<0.28.0,>=0.27.0->ollama) (1.3.1)\n",
      "Requirement already satisfied: h11<0.15,>=0.13 in d:\\guild\\tdl_ta\\.conda\\lib\\site-packages (from httpcore==1.*->httpx<0.28.0,>=0.27.0->ollama) (0.14.0)\n",
      "Requirement already satisfied: exceptiongroup>=1.0.2 in d:\\guild\\tdl_ta\\.conda\\lib\\site-packages (from anyio->httpx<0.28.0,>=0.27.0->ollama) (1.2.0)\n",
      "Requirement already satisfied: typing-extensions>=4.1 in d:\\guild\\tdl_ta\\.conda\\lib\\site-packages (from anyio->httpx<0.28.0,>=0.27.0->ollama) (4.9.0)\n",
      "Note: you may need to restart the kernel to use updated packages.\n",
      "Requirement already satisfied: chromadb in d:\\guild\\tdl_ta\\.conda\\lib\\site-packages (0.4.24)\n",
      "Requirement already satisfied: build>=1.0.3 in d:\\guild\\tdl_ta\\.conda\\lib\\site-packages (from chromadb) (1.1.1)\n",
      "Requirement already satisfied: requests>=2.28 in d:\\guild\\tdl_ta\\.conda\\lib\\site-packages (from chromadb) (2.28.1)\n",
      "Requirement already satisfied: pydantic>=1.9 in d:\\guild\\tdl_ta\\.conda\\lib\\site-packages (from chromadb) (2.6.3)\n",
      "Requirement already satisfied: chroma-hnswlib==0.7.3 in d:\\guild\\tdl_ta\\.conda\\lib\\site-packages (from chromadb) (0.7.3)\n",
      "Requirement already satisfied: fastapi>=0.95.2 in d:\\guild\\tdl_ta\\.conda\\lib\\site-packages (from chromadb) (0.110.0)\n",
      "Requirement already satisfied: uvicorn>=0.18.3 in d:\\guild\\tdl_ta\\.conda\\lib\\site-packages (from uvicorn[standard]>=0.18.3->chromadb) (0.28.0)\n",
      "Requirement already satisfied: numpy>=1.22.5 in d:\\guild\\tdl_ta\\.conda\\lib\\site-packages (from chromadb) (1.26.3)\n",
      "Requirement already satisfied: posthog>=2.4.0 in d:\\guild\\tdl_ta\\.conda\\lib\\site-packages (from chromadb) (3.5.0)\n",
      "Requirement already satisfied: typing-extensions>=4.5.0 in d:\\guild\\tdl_ta\\.conda\\lib\\site-packages (from chromadb) (4.9.0)\n",
      "Requirement already satisfied: pulsar-client>=3.1.0 in d:\\guild\\tdl_ta\\.conda\\lib\\site-packages (from chromadb) (3.4.0)\n",
      "Requirement already satisfied: onnxruntime>=1.14.1 in d:\\guild\\tdl_ta\\.conda\\lib\\site-packages (from chromadb) (1.17.1)\n",
      "Requirement already satisfied: opentelemetry-api>=1.2.0 in d:\\guild\\tdl_ta\\.conda\\lib\\site-packages (from chromadb) (1.23.0)\n",
      "Requirement already satisfied: opentelemetry-exporter-otlp-proto-grpc>=1.2.0 in d:\\guild\\tdl_ta\\.conda\\lib\\site-packages (from chromadb) (1.23.0)\n",
      "Requirement already satisfied: opentelemetry-instrumentation-fastapi>=0.41b0 in d:\\guild\\tdl_ta\\.conda\\lib\\site-packages (from chromadb) (0.44b0)\n",
      "Requirement already satisfied: opentelemetry-sdk>=1.2.0 in d:\\guild\\tdl_ta\\.conda\\lib\\site-packages (from chromadb) (1.23.0)\n",
      "Requirement already satisfied: tokenizers>=0.13.2 in d:\\guild\\tdl_ta\\.conda\\lib\\site-packages (from chromadb) (0.15.2)\n",
      "Requirement already satisfied: pypika>=0.48.9 in d:\\guild\\tdl_ta\\.conda\\lib\\site-packages (from chromadb) (0.48.9)\n",
      "Requirement already satisfied: tqdm>=4.65.0 in d:\\guild\\tdl_ta\\.conda\\lib\\site-packages (from chromadb) (4.66.2)\n",
      "Requirement already satisfied: overrides>=7.3.1 in d:\\guild\\tdl_ta\\.conda\\lib\\site-packages (from chromadb) (7.7.0)\n",
      "Requirement already satisfied: importlib-resources in d:\\guild\\tdl_ta\\.conda\\lib\\site-packages (from chromadb) (6.1.1)\n",
      "Requirement already satisfied: grpcio>=1.58.0 in d:\\guild\\tdl_ta\\.conda\\lib\\site-packages (from chromadb) (1.60.1)\n",
      "Requirement already satisfied: bcrypt>=4.0.1 in d:\\guild\\tdl_ta\\.conda\\lib\\site-packages (from chromadb) (4.1.2)\n",
      "Requirement already satisfied: typer>=0.9.0 in d:\\guild\\tdl_ta\\.conda\\lib\\site-packages (from chromadb) (0.9.0)\n",
      "Requirement already satisfied: kubernetes>=28.1.0 in d:\\guild\\tdl_ta\\.conda\\lib\\site-packages (from chromadb) (29.0.0)\n",
      "Requirement already satisfied: tenacity>=8.2.3 in d:\\guild\\tdl_ta\\.conda\\lib\\site-packages (from chromadb) (8.2.3)\n",
      "Requirement already satisfied: PyYAML>=6.0.0 in d:\\guild\\tdl_ta\\.conda\\lib\\site-packages (from chromadb) (6.0.1)\n",
      "Requirement already satisfied: mmh3>=4.0.1 in d:\\guild\\tdl_ta\\.conda\\lib\\site-packages (from chromadb) (4.1.0)\n",
      "Requirement already satisfied: orjson>=3.9.12 in d:\\guild\\tdl_ta\\.conda\\lib\\site-packages (from chromadb) (3.9.15)\n",
      "Requirement already satisfied: packaging>=19.0 in d:\\guild\\tdl_ta\\.conda\\lib\\site-packages (from build>=1.0.3->chromadb) (23.2)\n",
      "Requirement already satisfied: pyproject_hooks in d:\\guild\\tdl_ta\\.conda\\lib\\site-packages (from build>=1.0.3->chromadb) (1.0.0)\n",
      "Requirement already satisfied: colorama in d:\\guild\\tdl_ta\\.conda\\lib\\site-packages (from build>=1.0.3->chromadb) (0.4.6)\n",
      "Requirement already satisfied: tomli>=1.1.0 in d:\\guild\\tdl_ta\\.conda\\lib\\site-packages (from build>=1.0.3->chromadb) (2.0.1)\n",
      "Requirement already satisfied: starlette<0.37.0,>=0.36.3 in d:\\guild\\tdl_ta\\.conda\\lib\\site-packages (from fastapi>=0.95.2->chromadb) (0.36.3)\n",
      "Requirement already satisfied: certifi>=14.05.14 in d:\\guild\\tdl_ta\\.conda\\lib\\site-packages (from kubernetes>=28.1.0->chromadb) (2022.12.7)\n",
      "Requirement already satisfied: six>=1.9.0 in d:\\guild\\tdl_ta\\.conda\\lib\\site-packages (from kubernetes>=28.1.0->chromadb) (1.16.0)\n",
      "Requirement already satisfied: python-dateutil>=2.5.3 in d:\\guild\\tdl_ta\\.conda\\lib\\site-packages (from kubernetes>=28.1.0->chromadb) (2.8.2)\n",
      "Requirement already satisfied: google-auth>=1.0.1 in d:\\guild\\tdl_ta\\.conda\\lib\\site-packages (from kubernetes>=28.1.0->chromadb) (2.28.0)\n",
      "Requirement already satisfied: websocket-client!=0.40.0,!=0.41.*,!=0.42.*,>=0.32.0 in d:\\guild\\tdl_ta\\.conda\\lib\\site-packages (from kubernetes>=28.1.0->chromadb) (1.7.0)\n",
      "Requirement already satisfied: requests-oauthlib in d:\\guild\\tdl_ta\\.conda\\lib\\site-packages (from kubernetes>=28.1.0->chromadb) (1.3.1)\n",
      "Requirement already satisfied: oauthlib>=3.2.2 in d:\\guild\\tdl_ta\\.conda\\lib\\site-packages (from kubernetes>=28.1.0->chromadb) (3.2.2)\n",
      "Requirement already satisfied: urllib3>=1.24.2 in d:\\guild\\tdl_ta\\.conda\\lib\\site-packages (from kubernetes>=28.1.0->chromadb) (1.26.13)\n",
      "Requirement already satisfied: coloredlogs in d:\\guild\\tdl_ta\\.conda\\lib\\site-packages (from onnxruntime>=1.14.1->chromadb) (15.0.1)\n",
      "Requirement already satisfied: flatbuffers in d:\\guild\\tdl_ta\\.conda\\lib\\site-packages (from onnxruntime>=1.14.1->chromadb) (23.5.26)\n",
      "Requirement already satisfied: protobuf in d:\\guild\\tdl_ta\\.conda\\lib\\site-packages (from onnxruntime>=1.14.1->chromadb) (3.20.3)\n",
      "Requirement already satisfied: sympy in d:\\guild\\tdl_ta\\.conda\\lib\\site-packages (from onnxruntime>=1.14.1->chromadb) (1.12)\n",
      "Requirement already satisfied: deprecated>=1.2.6 in d:\\guild\\tdl_ta\\.conda\\lib\\site-packages (from opentelemetry-api>=1.2.0->chromadb) (1.2.14)\n",
      "Requirement already satisfied: importlib-metadata<7.0,>=6.0 in d:\\guild\\tdl_ta\\.conda\\lib\\site-packages (from opentelemetry-api>=1.2.0->chromadb) (6.11.0)\n",
      "Requirement already satisfied: googleapis-common-protos~=1.52 in d:\\guild\\tdl_ta\\.conda\\lib\\site-packages (from opentelemetry-exporter-otlp-proto-grpc>=1.2.0->chromadb) (1.62.0)\n",
      "Requirement already satisfied: opentelemetry-exporter-otlp-proto-common==1.23.0 in d:\\guild\\tdl_ta\\.conda\\lib\\site-packages (from opentelemetry-exporter-otlp-proto-grpc>=1.2.0->chromadb) (1.23.0)\n",
      "Requirement already satisfied: opentelemetry-proto==1.23.0 in d:\\guild\\tdl_ta\\.conda\\lib\\site-packages (from opentelemetry-exporter-otlp-proto-grpc>=1.2.0->chromadb) (1.23.0)\n",
      "Requirement already satisfied: opentelemetry-instrumentation-asgi==0.44b0 in d:\\guild\\tdl_ta\\.conda\\lib\\site-packages (from opentelemetry-instrumentation-fastapi>=0.41b0->chromadb) (0.44b0)\n",
      "Requirement already satisfied: opentelemetry-instrumentation==0.44b0 in d:\\guild\\tdl_ta\\.conda\\lib\\site-packages (from opentelemetry-instrumentation-fastapi>=0.41b0->chromadb) (0.44b0)\n",
      "Requirement already satisfied: opentelemetry-semantic-conventions==0.44b0 in d:\\guild\\tdl_ta\\.conda\\lib\\site-packages (from opentelemetry-instrumentation-fastapi>=0.41b0->chromadb) (0.44b0)\n",
      "Requirement already satisfied: opentelemetry-util-http==0.44b0 in d:\\guild\\tdl_ta\\.conda\\lib\\site-packages (from opentelemetry-instrumentation-fastapi>=0.41b0->chromadb) (0.44b0)\n",
      "Requirement already satisfied: setuptools>=16.0 in d:\\guild\\tdl_ta\\.conda\\lib\\site-packages (from opentelemetry-instrumentation==0.44b0->opentelemetry-instrumentation-fastapi>=0.41b0->chromadb) (68.2.2)\n",
      "Requirement already satisfied: wrapt<2.0.0,>=1.0.0 in d:\\guild\\tdl_ta\\.conda\\lib\\site-packages (from opentelemetry-instrumentation==0.44b0->opentelemetry-instrumentation-fastapi>=0.41b0->chromadb) (1.14.1)\n",
      "Requirement already satisfied: asgiref~=3.0 in d:\\guild\\tdl_ta\\.conda\\lib\\site-packages (from opentelemetry-instrumentation-asgi==0.44b0->opentelemetry-instrumentation-fastapi>=0.41b0->chromadb) (3.7.2)\n",
      "Requirement already satisfied: monotonic>=1.5 in d:\\guild\\tdl_ta\\.conda\\lib\\site-packages (from posthog>=2.4.0->chromadb) (1.6)\n",
      "Requirement already satisfied: backoff>=1.10.0 in d:\\guild\\tdl_ta\\.conda\\lib\\site-packages (from posthog>=2.4.0->chromadb) (2.2.1)\n",
      "Requirement already satisfied: annotated-types>=0.4.0 in d:\\guild\\tdl_ta\\.conda\\lib\\site-packages (from pydantic>=1.9->chromadb) (0.6.0)\n",
      "Requirement already satisfied: pydantic-core==2.16.3 in d:\\guild\\tdl_ta\\.conda\\lib\\site-packages (from pydantic>=1.9->chromadb) (2.16.3)\n",
      "Requirement already satisfied: charset-normalizer<3,>=2 in d:\\guild\\tdl_ta\\.conda\\lib\\site-packages (from requests>=2.28->chromadb) (2.1.1)\n",
      "Requirement already satisfied: idna<4,>=2.5 in d:\\guild\\tdl_ta\\.conda\\lib\\site-packages (from requests>=2.28->chromadb) (3.4)\n",
      "Requirement already satisfied: huggingface_hub<1.0,>=0.16.4 in d:\\guild\\tdl_ta\\.conda\\lib\\site-packages (from tokenizers>=0.13.2->chromadb) (0.21.3)\n",
      "Requirement already satisfied: click<9.0.0,>=7.1.1 in d:\\guild\\tdl_ta\\.conda\\lib\\site-packages (from typer>=0.9.0->chromadb) (8.1.7)\n",
      "Requirement already satisfied: h11>=0.8 in d:\\guild\\tdl_ta\\.conda\\lib\\site-packages (from uvicorn>=0.18.3->uvicorn[standard]>=0.18.3->chromadb) (0.14.0)\n",
      "Requirement already satisfied: httptools>=0.5.0 in d:\\guild\\tdl_ta\\.conda\\lib\\site-packages (from uvicorn[standard]>=0.18.3->chromadb) (0.6.1)\n",
      "Requirement already satisfied: python-dotenv>=0.13 in d:\\guild\\tdl_ta\\.conda\\lib\\site-packages (from uvicorn[standard]>=0.18.3->chromadb) (1.0.1)\n",
      "Requirement already satisfied: watchfiles>=0.13 in d:\\guild\\tdl_ta\\.conda\\lib\\site-packages (from uvicorn[standard]>=0.18.3->chromadb) (0.21.0)\n",
      "Requirement already satisfied: websockets>=10.4 in d:\\guild\\tdl_ta\\.conda\\lib\\site-packages (from uvicorn[standard]>=0.18.3->chromadb) (11.0.3)\n",
      "Requirement already satisfied: cachetools<6.0,>=2.0.0 in d:\\guild\\tdl_ta\\.conda\\lib\\site-packages (from google-auth>=1.0.1->kubernetes>=28.1.0->chromadb) (5.3.2)\n",
      "Requirement already satisfied: pyasn1-modules>=0.2.1 in d:\\guild\\tdl_ta\\.conda\\lib\\site-packages (from google-auth>=1.0.1->kubernetes>=28.1.0->chromadb) (0.3.0)\n",
      "Requirement already satisfied: rsa<5,>=3.1.4 in d:\\guild\\tdl_ta\\.conda\\lib\\site-packages (from google-auth>=1.0.1->kubernetes>=28.1.0->chromadb) (4.9)\n",
      "Requirement already satisfied: filelock in d:\\guild\\tdl_ta\\.conda\\lib\\site-packages (from huggingface_hub<1.0,>=0.16.4->tokenizers>=0.13.2->chromadb) (3.9.0)\n",
      "Requirement already satisfied: fsspec>=2023.5.0 in d:\\guild\\tdl_ta\\.conda\\lib\\site-packages (from huggingface_hub<1.0,>=0.16.4->tokenizers>=0.13.2->chromadb) (2024.2.0)\n",
      "Requirement already satisfied: zipp>=0.5 in d:\\guild\\tdl_ta\\.conda\\lib\\site-packages (from importlib-metadata<7.0,>=6.0->opentelemetry-api>=1.2.0->chromadb) (3.17.0)\n",
      "Requirement already satisfied: anyio<5,>=3.4.0 in d:\\guild\\tdl_ta\\.conda\\lib\\site-packages (from starlette<0.37.0,>=0.36.3->fastapi>=0.95.2->chromadb) (4.3.0)\n",
      "Requirement already satisfied: humanfriendly>=9.1 in d:\\guild\\tdl_ta\\.conda\\lib\\site-packages (from coloredlogs->onnxruntime>=1.14.1->chromadb) (10.0)\n",
      "Requirement already satisfied: mpmath>=0.19 in d:\\guild\\tdl_ta\\.conda\\lib\\site-packages (from sympy->onnxruntime>=1.14.1->chromadb) (1.3.0)\n",
      "Requirement already satisfied: sniffio>=1.1 in d:\\guild\\tdl_ta\\.conda\\lib\\site-packages (from anyio<5,>=3.4.0->starlette<0.37.0,>=0.36.3->fastapi>=0.95.2->chromadb) (1.3.1)\n",
      "Requirement already satisfied: exceptiongroup>=1.0.2 in d:\\guild\\tdl_ta\\.conda\\lib\\site-packages (from anyio<5,>=3.4.0->starlette<0.37.0,>=0.36.3->fastapi>=0.95.2->chromadb) (1.2.0)\n",
      "Requirement already satisfied: pyreadline3 in d:\\guild\\tdl_ta\\.conda\\lib\\site-packages (from humanfriendly>=9.1->coloredlogs->onnxruntime>=1.14.1->chromadb) (3.4.1)\n",
      "Requirement already satisfied: pyasn1<0.6.0,>=0.4.6 in d:\\guild\\tdl_ta\\.conda\\lib\\site-packages (from pyasn1-modules>=0.2.1->google-auth>=1.0.1->kubernetes>=28.1.0->chromadb) (0.5.1)\n",
      "Note: you may need to restart the kernel to use updated packages.\n",
      "Note: you may need to restart the kernel to use updated packages.\n"
     ]
    }
   ],
   "source": [
    "%pip install langchain\n",
    "%pip install torch\n",
    "%pip install sentence_transformers\n",
    "%pip install huggingface-hub\n",
    "%pip install pypdf\n",
    "%pip install tiktoken\n",
    "%pip -q install accelerate\n",
    "%pip install ollama\n",
    "%pip install chromadb\n",
    "%pip -q install git+https://github.com/huggingface/transformers"
   ]
  },
  {
   "cell_type": "markdown",
   "metadata": {},
   "source": [
    "## 2. Importing all the necessary Libraries & Modules :"
   ]
  },
  {
   "cell_type": "code",
   "execution_count": 3,
   "metadata": {},
   "outputs": [],
   "source": [
    "from langchain_community.llms import Ollama\n",
    "from langchain.vectorstores.faiss import FAISS\n",
    "from langchain.vectorstores import Chroma\n",
    "from PyPDF2 import PdfReader\n",
    "from langchain_community.embeddings import OllamaEmbeddings\n",
    "from langchain_core.output_parsers import StrOutputParser\n",
    "from langchain.prompts import PromptTemplate\n",
    "# from langchain.document_loaders import PyPDFDirectoryLoader\n",
    "from langchain.text_splitter import CharacterTextSplitter\n",
    "# from langchain_community.vectorstores import DocArrayInMemorySearch\n",
    "from operator import itemgetter\n",
    "import os"
   ]
  },
  {
   "cell_type": "markdown",
   "metadata": {},
   "source": [
    "## 3. Defining the LLM for the Task - \"Mistral - 7B: latest\" :\n",
    "- Ollama is an open-source library in Python which helps in seamless integration of **Open-source LLM models** into this Project\n",
    "- download & load the *\"Mistral-7B : latest* and define the 'MODEL'\n",
    "- For creating vector embeddings, I used the **\"OllamaEmbeddings\"** as it is open-source and works very efficiently for this model"
   ]
  },
  {
   "cell_type": "code",
   "execution_count": 4,
   "metadata": {},
   "outputs": [
    {
     "data": {
      "text/plain": [
       "' Why don\\'t programmers like nature?\\n\\nBecause it has too many bugs.\\n\\nOr, why did the Java developer quit his job?\\n\\nTo work on a greener project: Python. (This one is a play on words as \"greener\" can mean both \"more environmentally friendly\" and \"less experienced,\" since \"Python\" is often used to describe someone who\\'s new to a subject.)'"
      ]
     },
     "execution_count": 4,
     "metadata": {},
     "output_type": "execute_result"
    }
   ],
   "source": [
    "# Loading the model - \"Mistral 7B\" and testing it\n",
    "MODEL = \"mistral:latest\"\n",
    "model = Ollama(model=MODEL)\n",
    "embeddings = OllamaEmbeddings(model=MODEL)\n",
    "\n",
    "model.invoke(\"Tell me a tech joke\")"
   ]
  },
  {
   "cell_type": "markdown",
   "metadata": {},
   "source": [
    "## 4. Loading all the PDFs from the directory - \"./research_papers/\" : [TASK 1]\n",
    "- This snippet extracts **RAW TEXT** from all the PDFs(15 PDFs), removing Tables, Figures\n",
    "- This raw text consists of **6,98,508 tokens** which will be converted to vector embeddings!"
   ]
  },
  {
   "cell_type": "code",
   "execution_count": 5,
   "metadata": {},
   "outputs": [
    {
     "name": "stderr",
     "output_type": "stream",
     "text": [
      "Multiple definitions in dictionary at byte 0x1cc6b for key /MediaBox\n",
      "Multiple definitions in dictionary at byte 0x1ce61 for key /MediaBox\n",
      "Multiple definitions in dictionary at byte 0x1d014 for key /MediaBox\n",
      "Multiple definitions in dictionary at byte 0x1d1ae for key /MediaBox\n",
      "Multiple definitions in dictionary at byte 0x1d33d for key /MediaBox\n",
      "Multiple definitions in dictionary at byte 0x1d4af for key /MediaBox\n",
      "Multiple definitions in dictionary at byte 0x1d699 for key /MediaBox\n",
      "Multiple definitions in dictionary at byte 0x1d85b for key /MediaBox\n",
      "Multiple definitions in dictionary at byte 0x1db05 for key /MediaBox\n"
     ]
    },
    {
     "name": "stdout",
     "output_type": "stream",
     "text": [
      "698508\n"
     ]
    }
   ],
   "source": [
    "pdf_docs = \"./research_papers/\"\n",
    "\n",
    "# Directory containing PDF files\n",
    "pdf_dir = \"./research_papers/\"\n",
    "\n",
    "# Initialize an empty string to store text from all PDF files\n",
    "text = \"\"\n",
    "\n",
    "# Iterate over each file in the directory\n",
    "for filename in os.listdir(pdf_dir):\n",
    "    if filename.endswith(\".pdf\"):\n",
    "        # Construct the full path to the PDF file\n",
    "        pdf_path = os.path.join(pdf_dir, filename)\n",
    "        \n",
    "        # Open the PDF file\n",
    "        with open(pdf_path, \"rb\") as file:\n",
    "            # Create a PdfReader object\n",
    "            pdf_reader = PdfReader(file)\n",
    "            \n",
    "            # Iterate over each page in the PDF\n",
    "            for page in pdf_reader.pages:\n",
    "                # Extract text from the page and append it to the 'text' variable\n",
    "                text += page.extract_text()\n",
    "\n",
    "# Output the length of the concatenated text\n",
    "print(len(text))"
   ]
  },
  {
   "cell_type": "markdown",
   "metadata": {},
   "source": [
    "## 5. Data Pre-processing & Cleaning :\n",
    "- This snippet extacts the clean code, removing line breaks, special characters, etc\n",
    "- The raw text is broken down into *text_chunks* which have a **chunk size = 1000, chunk_overlap = 30** & is ready to be converted to vector embeddings"
   ]
  },
  {
   "cell_type": "code",
   "execution_count": 6,
   "metadata": {},
   "outputs": [],
   "source": [
    "text_splitter = CharacterTextSplitter(\n",
    "        separator = \"\\n\",\n",
    "        chunk_size = 1000,\n",
    "        chunk_overlap = 30,\n",
    "        length_function=len\n",
    "    )\n",
    "chunks = text_splitter.split_text(text)"
   ]
  },
  {
   "cell_type": "markdown",
   "metadata": {},
   "source": [
    "## 6. Vector Embeddings & Vector Database Creation: [TASK 2]\n",
    "- For Vector database creation, I've used **ChromaDB** as this is more scalable and robust when it come to **vector embeddings & retrieval**\n",
    "- The retrieval technique uses *Similarity_search* for retrieval  of documents from the database based on similarity_score"
   ]
  },
  {
   "cell_type": "code",
   "execution_count": 7,
   "metadata": {},
   "outputs": [],
   "source": [
    "vectorstore=Chroma.from_texts(\n",
    "        texts=chunks,\n",
    "        embedding=embeddings\n",
    "    )\n",
    "retriever = vectorstore.as_retriever()"
   ]
  },
  {
   "cell_type": "markdown",
   "metadata": {},
   "source": [
    "## 7. Define a Prompt Template for Question & Answers :\n",
    "- Using PromptTemplate, a module in langchain, we can define  templates to generate prompts that are used when the chain is invoked or prompted\n",
    "- this provides a **blueprint to Answer questions in a systematic way**\n",
    "- the *StrOutputParser()* is used to render the output without  any HTML tags or other unwanted characters"
   ]
  },
  {
   "cell_type": "code",
   "execution_count": 8,
   "metadata": {},
   "outputs": [],
   "source": [
    "template = \"\"\"\n",
    "Answer the question based on the context below. If you can't \n",
    "answer the question, reply \"I don't know\".\n",
    "\n",
    "Context: {context}\n",
    "\n",
    "Question: {question}\n",
    "\"\"\"\n",
    "\n",
    "prompt = PromptTemplate.from_template(template)\n",
    "\n",
    "parser = StrOutputParser()"
   ]
  },
  {
   "cell_type": "markdown",
   "metadata": {},
   "source": [
    "## 8. Define the Chain to Invoke LLM to generate Answers:\n",
    "- this snippet defines a chain consisting of context, question, promptTemplate, model and parser to render output correctly"
   ]
  },
  {
   "cell_type": "code",
   "execution_count": 9,
   "metadata": {},
   "outputs": [],
   "source": [
    "chain = (\n",
    "    {\n",
    "        \"context\": itemgetter(\"question\") | retriever,\n",
    "        \"question\": itemgetter(\"question\"),\n",
    "    }\n",
    "    | prompt\n",
    "    | model\n",
    "    | parser\n",
    ")"
   ]
  },
  {
   "cell_type": "markdown",
   "metadata": {},
   "source": [
    "## 9. Query Formulation & Retrieval : [TASK 3]\n",
    "- this snippet holds 13 different questions which is being prompted to the LLM, to retrieve from the vector database\n",
    "- The output(Answer) of the generated answer is being dispalyed"
   ]
  },
  {
   "cell_type": "code",
   "execution_count": 10,
   "metadata": {},
   "outputs": [
    {
     "name": "stdout",
     "output_type": "stream",
     "text": [
      "Question: What are the variety of Multimodal and Multi-modular AI Approaches to Streamline Autism Diagnosis in Young Children?\n",
      "Answer:  Based on the provided context, there have been several studies exploring the use of artificial intelligence (AI) for shortening the behavioral diagnosis of autism in young children. These approaches can be categorized into multimodal and multi-modular AI methods as follows:\n",
      "\n",
      "1. Multimodal Approaches:\n",
      "   a. Use of computer vision tools to analyze autism-related behaviors in infants (Hashemi et al., 2014; Hashemi et al., 2018).\n",
      "   b. Analysis of symmetry in early autism spectrum disorders using lying tasks (Esposito et al., 2009).\n",
      "\n",
      "2. Multi-modular Approaches:\n",
      "   a. Use of the Autism Diagnostic Observation Schedule (ADOS) alongside other diagnostic tools (Lord et al., 1999).\n",
      "   b. Evaluation of a novel mobile-health screening tool for toddlers and preschoolers at risk for autism spectrum disorder using various developmental and behavioral measures (Kanne et al., 2017).\n",
      "   c. Screening for autism with the SRS and SCQ, considering demographic, developmental, and behavioral factors in preschool children (Moody et al., 2017).\n",
      "   d. Study of early motor and socio-communicative behaviors using home videos during the second year of life (Zappella et al., 2015).\n",
      "\n",
      "It is important to note that while these studies suggest potential applications of AI for autism diagnosis, further research is needed to validate their effectiveness and applicability in clinical settings.\n",
      "\n",
      "Question: What is Autism Spectrum Disorder, how it is caysed?\n",
      "Answer:  Autism Spectrum Disorder (ASD) is a neurodevelopmental disorder characterized by difficulties in social interaction, communication, and repetitive behaviors. The exact cause of ASD is not known, but it is believed to involve a combination of genetic and environmental factors. Some research suggests that abnormalities in brain structure and function may play a role. However, the document provided does not contain specific information about the causes of ASD.\n",
      "\n",
      "Question: What is the cure of Autism Spectrum Disorder?\n",
      "Answer:  I don't know. The context provided does not mention any information about a cure for Autism Spectrum Disorder.\n",
      "\n",
      "Question: What are Stereotypical and maladaptive behaviors in Autism Spectrum, how are these detected and managed?\n",
      "Answer:  Stereotypical and maladaptive behaviors are common in individuals with Autism Spectrum Disorders (ASD). These behaviors can include repetitive movements or speech, resistance to change in routines, self-injury, and socially inappropriate behaviors. Stereotypies, such as hand flapping or rocking, may serve as a way for individuals with ASD to regulate their sensory environment or express emotions. Maladaptive behaviors, on the other hand, can interfere with daily living and social functioning.\n",
      "\n",
      "These behaviors are typically detected during developmental assessments, such as the Autism Diagnostic Observation Schedule (ADOS) or through parent reports. Screening tools like the Social Responsiveness Scale (SRS) and the Modified Checklist for Autism in Toddlers (M-CHAT) can also be used to identify possible ASDs based on behavioral symptoms.\n",
      "\n",
      "Management of stereotypical and maladaptive behaviors involves a multidisciplinary approach, including behavior analysis, medication, and environmental modifications. Behavior analysis techniques, such as Applied Behavior Analysis (ABA), can help teach replacement skills for maladaptive behaviors and reduce the frequency of stereotypies through the use of positive reinforcement and extinction. Medications may be used to manage severe symptoms, such as self-injury or agitation. Environmental modifications, such as providing a calm and predictable environment, can help reduce the occurrence of stereotypical behaviors. It is essential to work closely with healthcare professionals and therapists to develop an individualized treatment plan for each child.\n",
      "\n",
      "Question: How relevant is eye contact and how it can be used to detect Autism?\n",
      "Answer:  The context provided does not directly answer the question about the relevance of eye contact in detecting autism or how it can be used for detection. However, we do have some information from one document that mentions the use of facial expression data, including eye contact, for the diagnosis of autism using deep convolution neural network models. The document also states that the recognition rate of the system is 81.4 percent in distinguishing whether the expression of children is normal or not. Therefore, while the context does suggest that eye contact is relevant to some extent in the context of diagnosing autism using facial expressions, it does not provide specific information on how eye contact can be used for detection or its significance compared to other factors.\n",
      "\n",
      "Question: How can cross country trials help in development of Machine learning based Multimodal solutions?\n",
      "Answer:  The context provided does not directly answer the question about how cross-country trials can help in the development of machine learning-based multimodal solutions. However, we can infer that collecting more children's facial expression data from different countries and regions as training samples can help improve the recognition rate of facial expressions (Document 4). This is an example of a cross-country trial in the context of developing a machine learning-based solution for autism diagnosis using facial expressions. The use of diverse training data from various populations can help ensure that the model is effective across different racial and ethnic groups, thereby increasing its generalizability and accuracy.\n",
      "\n",
      "Question: How early infants cry can help in the early detection of Autism?\n",
      "Answer:  The context provided does not directly answer your question about how early infants' cry can help in the early detection of Autism. However, it mentions that Lynch et al. (1995) studied the onset of speech-like vocalizations and phrasing in prelinguistic vocalizations in infants with Down syndrome, which may be relevant to this question as crying is a type of vocalization. Additionally, there is a study mentioned about using artificial intelligence to shorten the behavioral diagnosis of autism, but it does not specifically mention cry. Therefore, based on the context provided, I don't have a definitive answer to your question.\n",
      "\n",
      "Question: What are various methods to detect  Atypical Pattern of Facial expression in Children?\n",
      "Answer:  Based on the context provided, there are at least two methods mentioned for detecting atypical patterns of facial expression in children that involve the use of technology and deep convolution neural network models (VGG19 and Resnet18) to analyze facial expression data. However, it is important to note that this information is based on a specific research study and there may be other methods or approaches used in practice for detecting atypical facial expressions in children with autism. For instance, the context also includes references to studies that examine various behaviors and developmental milestones in children with autism, such as lying, head lag, and motor and socio-communicative behaviors, which can also provide clues to identifying atypical patterns of facial expression. It is recommended to consult relevant research and clinical literature for a more comprehensive understanding of this topic.\n",
      "\n",
      "Question: What kind of facial expressions can be used to detect Autism Disorder in children?\n",
      "Answer:  According to the context provided, the study mentioned uses FER2013 and CK as main facial expression training samples for diagnosing autism in children using deep convolution neural network models (VGG19 and Resnet18). The recognition rate of the system is 81.4 percent. However, the text does not explicitly specify which specific facial expressions are used to detect Autism Disorder in children based on this study. Therefore, I don't know.\n",
      "\n",
      "The context also mentions that more children's facial expression data will be collected from different countries and regions to further improve the recognition rate of facial expressions. So, it is an ongoing research and we may have more information about specific facial expressions in the future.\n",
      "\n",
      "Question: What are methods to detect Autism from home videos?\n",
      "Answer:  Based on the context provided, there is a document discussing a study that uses deep convolution neural network models (VGG19 and Resnet18) to diagnose autism from facial expression data obtained from hospital diagnosis scales and supplementary samples of children's facial expressions. Another document describes a method for selecting clinician questions based on their potential impact on the diagnostic process. However, none of the documents specifically mention home videos as a method for detecting autism.\n",
      "\n",
      "Therefore, I would refer you to document 13 and 14 for further information about machine learning approaches for early detection of autism using questionnaires and home videos. The document from Cognoa, Inc., in particular, mentions their location and website, which could be a good starting point for finding more details on their specific approach.\n",
      "\n",
      "The documents from the study primarily focus on facial expression data and do not mention home videos.\n",
      "\n",
      "Question: What is Still-Face Paradigm in Early Screening for High-Risk Autism Spectrum Disorder?\n",
      "Answer:  I don't have enough information from the given context to answer that question directly. The context mentions several documents related to autism spectrum disorders, but none of them specifically discuss the Still-Face Paradigm in the context of early screening for high-risk autism spectrum disorder. If you could provide more context or additional sources that discuss the Still-Face Paradigm in this specific context, I would be happy to help answer any questions you have about it.\n",
      "\n",
      "Question: What is West Syndrome?\n",
      "Answer:  I don't know. The context provided does not mention \"West Syndrome.\" It mentions Williams syndrome, which is a different developmental disorder.\n",
      "\n",
      "Question: What is the utility of Behavior and interaction imaging at 9 months of age predict autism/intellectual disability in high-risk infants with West syndrome?\n",
      "Answer:  The context provided does not directly answer your question as it primarily focuses on research related to autism, multi-object tracking, artificial intelligence in autism diagnosis, and various studies on different aspects of autism. It does not specifically mention anything about the utility of behavior and interaction imaging at 9 months of age predicting autism or intellectual disability in high-risk infants with West syndrome. Therefore, I don't have an answer for your question based on the context provided.\n",
      "\n"
     ]
    }
   ],
   "source": [
    "questions = [\n",
    "    \"What are the variety of Multimodal and Multi-modular AI Approaches to Streamline Autism Diagnosis in Young Children?\",\n",
    "    \"What is Autism Spectrum Disorder, how it is caysed?\",\n",
    "    \"What is the cure of Autism Spectrum Disorder?\",\n",
    "    \"What are Stereotypical and maladaptive behaviors in Autism Spectrum, how are these detected and managed?\",\n",
    "    \"How relevant is eye contact and how it can be used to detect Autism?\",\n",
    "    \"How can cross country trials help in development of Machine learning based Multimodal solutions?\",\n",
    "    \"How early infants cry can help in the early detection of Autism?\",\n",
    "    \"What are various methods to detect  Atypical Pattern of Facial expression in Children?\",\n",
    "    \"What kind of facial expressions can be used to detect Autism Disorder in children?\",\n",
    "    \"What are methods to detect Autism from home videos?\",\n",
    "    \"What is Still-Face Paradigm in Early Screening for High-Risk Autism Spectrum Disorder?\",\n",
    "    \"What is West Syndrome?\",\n",
    "    \"What is the utility of Behavior and interaction imaging at 9 months of age predict autism/intellectual disability in high-risk infants with West syndrome?\"\n",
    "]\n",
    "\n",
    "for question in questions:\n",
    "    print(f\"Question: {question}\")\n",
    "    print(f\"Answer: {chain.invoke({'question': question})}\")\n",
    "    print()"
   ]
  },
  {
   "cell_type": "markdown",
   "metadata": {},
   "source": [
    "## 10. Summarization and Response Generation : [TASK 4]\n",
    "- Takes the top 5 retrieved Answeres from the 13 queries\n",
    "- Summarises all these top 5 Answeres \n"
   ]
  },
  {
   "cell_type": "code",
   "execution_count": 14,
   "metadata": {},
   "outputs": [
    {
     "name": "stdout",
     "output_type": "stream",
     "text": [
      " Based on the context provided in the text, there have been several studies exploring the use of artificial intelligence (AI) for autism diagnosis in young children using various approaches. These approaches include:\n",
      "\n",
      "1. Computer vision tools: Analyzing facial expressions and body movements using machine learning algorithms.\n",
      "2. Speech analysis: Assessing speech and language development using standardized screening questionnaires and analyzing speech-like vocalizations.\n",
      "3. Motor impairment: Analyzing early motor and socio-communicative behaviors from home videos.\n",
      "4. Multi-modal analysis: Combining data from multiple sources, such as parent reports, observation, and medical records.\n",
      "5. Mobile health screening tools: Evaluating a novel mobile-health screening tool for early detection of autism in toddlers and preschoolers.\n",
      "6. Machine learning algorithms: Exploring symmetry in early autism spectrum disorders and studying the co-occurrence of motor problems and autistic symptoms using machine learning approaches.\n",
      "\n",
      "Some methods for managing stereotypical and maladaptive behaviors in children with Autism Spectrum Disorders (ASD) include:\n",
      "\n",
      "1. Environmental modifications: Reducing sensory overload and providing a consistent routine.\n",
      "2. Social skills training: Teaching appropriate social responses through modeling, role-playing, and other instructional methods.\n",
      "3. Behavior modification techniques: Using positive reinforcement, time-out procedures, or other behavior modification strategies.\n",
      "4. Medications: Prescribing medications to help manage severe stereotypies or maladaptive behaviors in some cases.\n",
      "5. Therapeutic interventions: Occupational therapy, speech and language therapy, and other forms of therapeutic intervention to address underlying issues contributing to stereotypies and maladaptive behaviors.\n",
      "\n",
      "Regarding your specific question about facial expressions associated with autism that could be detected from home videos using machine learning algorithms, the context provided does not mention any particular facial expressions as being particularly indicative of Autism Disorder. However, some studies have used deep convolution neural network models to analyze facial expression data from children for autism diagnosis. Additionally, machine learning approaches combined with clinician questionnaires and home videos could potentially be used for autism detection from home videos.\n",
      "\n",
      "Therefore, machine learning algorithms applied to facial expression analysis and clinician questionnaires are some methods that could potentially be used for autism detection from home videos. However, it's essential to note that more research is needed to validate these methods and improve their accuracy for clinical practice.\n"
     ]
    }
   ],
   "source": [
    "summary = \"\"\n",
    "summary_questions = [\n",
    "    \"What are the variety of Multimodal and Multi-modular AI Approaches to Streamline Autism Diagnosis in Young Children?\",\n",
    "    \"What is Autism Spectrum Disorder, how it is caused?\",\n",
    "    \"What are Stereotypical and maladaptive behaviors in Autism Spectrum, how are these detected and managed?\",\n",
    "    \"What kind of facial expressions can be used to detect Autism Disorder in children?\",\n",
    "    \"What are methods to detect Autism from home videos?\"\n",
    "]\n",
    "\n",
    "for question in summary_questions:\n",
    "    summary += chain.invoke({'question': question}) + \"\\n\"  # Assuming chain.invoke() takes a dictionary as input\n",
    "\n",
    "# Create a configuration object\n",
    "config = {\"key\": \"value\"}  # Replace with your actual configuration\n",
    "\n",
    "# Summarizing the top 5 retrieved queries\n",
    "summary_result = model.invoke(summary, config=config)  # Pass the config object\n",
    "print(summary_result)\n"
   ]
  },
  {
   "cell_type": "markdown",
   "metadata": {},
   "source": [
    "# CogniAble - Assignment 2 Submission\n",
    "- Github : https://github.com/NandanHemanth/\n",
    "- Resume : https://drive.google.com/file/d/1IB6X_G7mPwvzv1M8I0QiV099_02bylI2/view?usp=sharing "
   ]
  }
 ],
 "metadata": {
  "kernelspec": {
   "display_name": "Python 3",
   "language": "python",
   "name": "python3"
  },
  "language_info": {
   "codemirror_mode": {
    "name": "ipython",
    "version": 3
   },
   "file_extension": ".py",
   "mimetype": "text/x-python",
   "name": "python",
   "nbconvert_exporter": "python",
   "pygments_lexer": "ipython3",
   "version": "3.10.13"
  }
 },
 "nbformat": 4,
 "nbformat_minor": 2
}
